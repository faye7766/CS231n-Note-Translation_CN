{
  "nbformat": 4,
  "nbformat_minor": 0,
  "metadata": {
    "colab": {
      "name": "sdtm_mapper_demo.ipynb",
      "provenance": [],
      "collapsed_sections": [],
      "toc_visible": true,
      "include_colab_link": true
    },
    "kernelspec": {
      "name": "python3",
      "display_name": "Python 3"
    }
  },
  "cells": [
    {
      "cell_type": "markdown",
      "metadata": {
        "id": "view-in-github",
        "colab_type": "text"
      },
      "source": [
        "<a href=\"https://colab.research.google.com/github/faye7766/CS231n-Note-Translation_CN/blob/master/sdtm_mapper_demo.ipynb\" target=\"_parent\"><img src=\"https://colab.research.google.com/assets/colab-badge.svg\" alt=\"Open In Colab\"/></a>"
      ]
    },
    {
      "cell_type": "markdown",
      "metadata": {
        "id": "1Z2mN8kz6vzb",
        "colab_type": "text"
      },
      "source": [
        "# sdtm-mapper demo for PhUSE Machine Learning Project Sub Team Meeting\n",
        "March 1, 2019\n",
        "---\n",
        "\n",
        "\n",
        "## 1.  About\n",
        "\n",
        "This is the demo for python package `sdtm-mapper`. This is a tool for\n",
        "1. Generates a empty specifications for training data from a user provided SAS dataset. This empty specification will contain SAS dataset attributes. You don't need to use Proc Contents in SAS to do this!\n",
        "2. Run models to generate a mapping specifications.\n",
        "3.  Generates your own mapping models using your data. The models can be trained to generate the target variables but also programming sudo code.\n",
        "\n",
        "If you work in Colab, you will need to install sas7bdat, pathlib, and tensorflow_hub. \n",
        "\n",
        "## Requirements\n",
        "\n",
        "- boto3\n",
        "- sas7bdat\n",
        "- pandas\n",
        "- botocore\n",
        "- setuptools==39.1.0\n",
        "- numpy\n",
        "- Keras\n",
        "- scikit_learn\n",
        "- pathlib\n",
        "\n",
        "- TensorFlow can be installed either as CPU or GPU versions.\n",
        "\n",
        "  - tensorflow\t\t# CPU Version of TensorFlow.\n",
        "  -  tensorflow-gpu\t# GPU version of TensorFlow.\n",
        "\n",
        "- tensorflow_hub\n",
        "\n"
      ]
    },
    {
      "cell_type": "markdown",
      "metadata": {
        "id": "oB_9LmJw9tYw",
        "colab_type": "text"
      },
      "source": [
        "**Note** If you have to re-install, or to update to a new version of sdtm_mapper, it's better to uninstall it first!"
      ]
    },
    {
      "cell_type": "code",
      "metadata": {
        "id": "hdORyc8Uf0fI",
        "colab_type": "code",
        "outputId": "2bb06a25-6f37-450f-af26-ea0ecb771964",
        "colab": {
          "base_uri": "https://localhost:8080/",
          "height": 51
        }
      },
      "source": [
        "#!pip uninstall -y sdtm_mapper"
      ],
      "execution_count": 0,
      "outputs": [
        {
          "output_type": "stream",
          "text": [
            "Uninstalling sdtm-mapper-0.3.6:\n",
            "  Successfully uninstalled sdtm-mapper-0.3.6\n"
          ],
          "name": "stdout"
        }
      ]
    },
    {
      "cell_type": "markdown",
      "metadata": {
        "id": "YEN-NVma6sGF",
        "colab_type": "text"
      },
      "source": [
        "## 2.  Installation"
      ]
    },
    {
      "cell_type": "markdown",
      "metadata": {
        "id": "QR47iRPdaXjA",
        "colab_type": "text"
      },
      "source": [
        "To install sdtm-mapper on Colab, you may need to install following three packages. Other required packages are already pre-installed."
      ]
    },
    {
      "cell_type": "code",
      "metadata": {
        "id": "hjuBDegCaFHx",
        "colab_type": "code",
        "outputId": "12ef868e-8d13-4c85-e220-6faae1b3de51",
        "colab": {
          "base_uri": "https://localhost:8080/",
          "height": 255
        }
      },
      "source": [
        "!pip install sas7bdat tensorflow-hub pathlib"
      ],
      "execution_count": 0,
      "outputs": [
        {
          "output_type": "stream",
          "text": [
            "Collecting sas7bdat\n",
            "  Downloading https://files.pythonhosted.org/packages/c7/7d/f6187c1233e05f340985cccd3541bc3a96d800f8d1e20d3ff36c1661e385/sas7bdat-2.2.2.tar.gz\n",
            "Requirement already satisfied: tensorflow-hub in /usr/local/lib/python3.6/dist-packages (0.2.0)\n",
            "Requirement already satisfied: pathlib in /usr/local/lib/python3.6/dist-packages (1.0.1)\n",
            "Requirement already satisfied: six>=1.8.0 in /usr/local/lib/python3.6/dist-packages (from sas7bdat) (1.11.0)\n",
            "Requirement already satisfied: protobuf>=3.4.0 in /usr/local/lib/python3.6/dist-packages (from tensorflow-hub) (3.6.1)\n",
            "Requirement already satisfied: numpy>=1.12.0 in /usr/local/lib/python3.6/dist-packages (from tensorflow-hub) (1.14.6)\n",
            "Requirement already satisfied: setuptools in /usr/local/lib/python3.6/dist-packages (from protobuf>=3.4.0->tensorflow-hub) (40.8.0)\n",
            "Building wheels for collected packages: sas7bdat\n",
            "  Building wheel for sas7bdat (setup.py) ... \u001b[?25ldone\n",
            "\u001b[?25h  Stored in directory: /root/.cache/pip/wheels/92/33/40/ad01f5af97aab6c434ed57f3bb5f19a4dfa5666fdd39588f44\n",
            "Successfully built sas7bdat\n",
            "Installing collected packages: sas7bdat\n",
            "Successfully installed sas7bdat-2.2.2\n"
          ],
          "name": "stdout"
        }
      ]
    },
    {
      "cell_type": "code",
      "metadata": {
        "id": "hA4JaeUjbG6N",
        "colab_type": "code",
        "outputId": "84cbe863-35a5-4940-e5cd-b4a0cea0b15c",
        "colab": {
          "base_uri": "https://localhost:8080/",
          "height": 459
        }
      },
      "source": [
        "#!pip --no-cache-dir install -i https://test.pypi.org/simple/ sdtm-mapper\n",
        "!pip install sdtm-mapper"
      ],
      "execution_count": 0,
      "outputs": [
        {
          "output_type": "stream",
          "text": [
            "Collecting sdtm-mapper\n",
            "\u001b[?25l  Downloading https://files.pythonhosted.org/packages/fc/da/0d90c9056f7dfe902787618fbe10a7736c4ef91a52a5a14267672406d4a4/sdtm_mapper-0.3.8-py3-none-any.whl (17.8MB)\n",
            "\u001b[K    100% |████████████████████████████████| 17.8MB 1.4MB/s \n",
            "\u001b[?25hRequirement already satisfied: boto3 in /usr/local/lib/python3.6/dist-packages (from sdtm-mapper) (1.9.103)\n",
            "Requirement already satisfied: pathlib in /usr/local/lib/python3.6/dist-packages (from sdtm-mapper) (1.0.1)\n",
            "Requirement already satisfied: numpy in /usr/local/lib/python3.6/dist-packages (from sdtm-mapper) (1.14.6)\n",
            "Requirement already satisfied: keras in /usr/local/lib/python3.6/dist-packages (from sdtm-mapper) (2.2.4)\n",
            "Requirement already satisfied: sklearn in /usr/local/lib/python3.6/dist-packages (from sdtm-mapper) (0.0)\n",
            "Requirement already satisfied: botocore in /usr/local/lib/python3.6/dist-packages (from sdtm-mapper) (1.12.103)\n",
            "Requirement already satisfied: sas7bdat in /usr/local/lib/python3.6/dist-packages (from sdtm-mapper) (2.2.2)\n",
            "Requirement already satisfied: pandas in /usr/local/lib/python3.6/dist-packages (from sdtm-mapper) (0.22.0)\n",
            "Requirement already satisfied: s3transfer<0.3.0,>=0.2.0 in /usr/local/lib/python3.6/dist-packages (from boto3->sdtm-mapper) (0.2.0)\n",
            "Requirement already satisfied: jmespath<1.0.0,>=0.7.1 in /usr/local/lib/python3.6/dist-packages (from boto3->sdtm-mapper) (0.9.4)\n",
            "Requirement already satisfied: pyyaml in /usr/local/lib/python3.6/dist-packages (from keras->sdtm-mapper) (3.13)\n",
            "Requirement already satisfied: scipy>=0.14 in /usr/local/lib/python3.6/dist-packages (from keras->sdtm-mapper) (1.1.0)\n",
            "Requirement already satisfied: keras-preprocessing>=1.0.5 in /usr/local/lib/python3.6/dist-packages (from keras->sdtm-mapper) (1.0.9)\n",
            "Requirement already satisfied: keras-applications>=1.0.6 in /usr/local/lib/python3.6/dist-packages (from keras->sdtm-mapper) (1.0.7)\n",
            "Requirement already satisfied: six>=1.9.0 in /usr/local/lib/python3.6/dist-packages (from keras->sdtm-mapper) (1.11.0)\n",
            "Requirement already satisfied: h5py in /usr/local/lib/python3.6/dist-packages (from keras->sdtm-mapper) (2.8.0)\n",
            "Requirement already satisfied: scikit-learn in /usr/local/lib/python3.6/dist-packages (from sklearn->sdtm-mapper) (0.20.2)\n",
            "Requirement already satisfied: urllib3<1.25,>=1.20; python_version >= \"3.4\" in /usr/local/lib/python3.6/dist-packages (from botocore->sdtm-mapper) (1.22)\n",
            "Requirement already satisfied: docutils>=0.10 in /usr/local/lib/python3.6/dist-packages (from botocore->sdtm-mapper) (0.14)\n",
            "Requirement already satisfied: python-dateutil<3.0.0,>=2.1; python_version >= \"2.7\" in /usr/local/lib/python3.6/dist-packages (from botocore->sdtm-mapper) (2.5.3)\n",
            "Requirement already satisfied: pytz>=2011k in /usr/local/lib/python3.6/dist-packages (from pandas->sdtm-mapper) (2018.9)\n",
            "Installing collected packages: sdtm-mapper\n",
            "Successfully installed sdtm-mapper-0.3.8\n"
          ],
          "name": "stdout"
        }
      ]
    },
    {
      "cell_type": "code",
      "metadata": {
        "id": "wFe4lEHGbIOP",
        "colab_type": "code",
        "colab": {}
      },
      "source": [
        "import pandas as pd\n",
        "import os\n",
        "import numpy as np\n",
        "\n",
        "# Here you import sdtm_mapper\n",
        "import sdtm_mapper.SDTMModels as sdtm\n",
        "import sdtm_mapper.SDTMMapper as mapper\n",
        "from sdtm_mapper import samples\n",
        "\n",
        "#Specify Below if you are pulling data from aws s3\n",
        "bucket='snvn-sagemaker-1' #s3 bucket\n",
        "KEY='mldata/Sam/data/project/xxx-000/xxx/xxx-201/csr/data/raw/latest/' #Key in s3\n",
        "\n",
        "#specify below if you are pulling data from local\n",
        "localpath='' # directory to the folder where the datasets are stored\n"
      ],
      "execution_count": 0,
      "outputs": []
    },
    {
      "cell_type": "markdown",
      "metadata": {
        "id": "2wf6wg4n7jHn",
        "colab_type": "text"
      },
      "source": [
        "## 3. Load mapper"
      ]
    },
    {
      "cell_type": "code",
      "metadata": {
        "id": "MQ9cooisgtSj",
        "colab_type": "code",
        "colab": {}
      },
      "source": [
        "sdtmmap=mapper.SDTMMapper('ae', True, bucket, KEY)"
      ],
      "execution_count": 0,
      "outputs": []
    },
    {
      "cell_type": "markdown",
      "metadata": {
        "id": "F9difExu-ACX",
        "colab_type": "text"
      },
      "source": [
        "### 3.1 Load sample model. \n",
        "\n",
        "I will load  model 3. See detail discussed [here](https://github.com/stomioka/sdtm_mapper)"
      ]
    },
    {
      "cell_type": "code",
      "metadata": {
        "id": "UArqaR2D5S3v",
        "colab_type": "code",
        "outputId": "181800b6-eb63-4c67-96d1-4420a3aef6b2",
        "colab": {
          "base_uri": "https://localhost:8080/",
          "height": 173
        }
      },
      "source": [
        "model=samples.load_sample_model(3)"
      ],
      "execution_count": 0,
      "outputs": [
        {
          "output_type": "stream",
          "text": [
            "INFO:tensorflow:Using /tmp/tfhub_modules to cache modules.\n",
            "INFO:tensorflow:Downloading TF-Hub Module 'https://tfhub.dev/google/elmo/2'.\n",
            "INFO:tensorflow:Downloaded https://tfhub.dev/google/elmo/2, Total size: 357.40MB\n",
            "INFO:tensorflow:Downloaded TF-Hub Module 'https://tfhub.dev/google/elmo/2'.\n",
            "WARNING:tensorflow:From /usr/local/lib/python3.6/dist-packages/tensorflow/python/ops/control_flow_ops.py:3632: colocate_with (from tensorflow.python.framework.ops) is deprecated and will be removed in a future version.\n",
            "Instructions for updating:\n",
            "Colocations handled automatically by placer.\n",
            "INFO:tensorflow:Saver not created because there are no variables in the graph to restore\n"
          ],
          "name": "stdout"
        }
      ]
    },
    {
      "cell_type": "markdown",
      "metadata": {
        "id": "9hdPjeYt-Ooa",
        "colab_type": "text"
      },
      "source": [
        "### 3.2  Load sample test data"
      ]
    },
    {
      "cell_type": "code",
      "metadata": {
        "id": "RsaGS4dY59Xg",
        "colab_type": "code",
        "colab": {}
      },
      "source": [
        "ae=samples.load_sample_study(domain='ae')"
      ],
      "execution_count": 0,
      "outputs": []
    },
    {
      "cell_type": "markdown",
      "metadata": {
        "id": "RzSvzBoB-mMa",
        "colab_type": "text"
      },
      "source": [
        "Let's take a look at this `ae` dataframe."
      ]
    },
    {
      "cell_type": "code",
      "metadata": {
        "id": "ztCeI8yH6DSQ",
        "colab_type": "code",
        "outputId": "29713bfc-c661-4b9a-c436-c55cba0e6464",
        "colab": {
          "base_uri": "https://localhost:8080/",
          "height": 204
        }
      },
      "source": [
        "ae.head()"
      ],
      "execution_count": 0,
      "outputs": [
        {
          "output_type": "execute_result",
          "data": {
            "text/html": [
              "<div>\n",
              "<style scoped>\n",
              "    .dataframe tbody tr th:only-of-type {\n",
              "        vertical-align: middle;\n",
              "    }\n",
              "\n",
              "    .dataframe tbody tr th {\n",
              "        vertical-align: top;\n",
              "    }\n",
              "\n",
              "    .dataframe thead th {\n",
              "        text-align: right;\n",
              "    }\n",
              "</style>\n",
              "<table border=\"1\" class=\"dataframe\">\n",
              "  <thead>\n",
              "    <tr style=\"text-align: right;\">\n",
              "      <th></th>\n",
              "      <th>ID</th>\n",
              "      <th>text</th>\n",
              "      <th>sdtm</th>\n",
              "    </tr>\n",
              "  </thead>\n",
              "  <tbody>\n",
              "    <tr>\n",
              "      <th>0</th>\n",
              "      <td>PROJECTID</td>\n",
              "      <td>PROJECTID projectid</td>\n",
              "      <td>DROP</td>\n",
              "    </tr>\n",
              "    <tr>\n",
              "      <th>1</th>\n",
              "      <td>PROJECT</td>\n",
              "      <td>PROJECT project</td>\n",
              "      <td>DROP</td>\n",
              "    </tr>\n",
              "    <tr>\n",
              "      <th>2</th>\n",
              "      <td>STUDYID</td>\n",
              "      <td>STUDYID Internal id for the study</td>\n",
              "      <td>DROP</td>\n",
              "    </tr>\n",
              "    <tr>\n",
              "      <th>3</th>\n",
              "      <td>ENVIRONMENTNAME</td>\n",
              "      <td>ENVIRONMENTNAME Environment</td>\n",
              "      <td>DROP</td>\n",
              "    </tr>\n",
              "    <tr>\n",
              "      <th>4</th>\n",
              "      <td>SUBJECTID</td>\n",
              "      <td>SUBJECTID Internal id for the subject</td>\n",
              "      <td>DROP</td>\n",
              "    </tr>\n",
              "  </tbody>\n",
              "</table>\n",
              "</div>"
            ],
            "text/plain": [
              "                ID                                   text  sdtm\n",
              "0        PROJECTID                    PROJECTID projectid  DROP\n",
              "1          PROJECT                        PROJECT project  DROP\n",
              "2          STUDYID      STUDYID Internal id for the study  DROP\n",
              "3  ENVIRONMENTNAME            ENVIRONMENTNAME Environment  DROP\n",
              "4        SUBJECTID  SUBJECTID Internal id for the subject  DROP"
            ]
          },
          "metadata": {
            "tags": []
          },
          "execution_count": 8
        }
      ]
    },
    {
      "cell_type": "markdown",
      "metadata": {
        "id": "_dbmGno0BNA_",
        "colab_type": "text"
      },
      "source": [
        "I will save this to 'test_data' folder. The 'HOME' directory in colab is 'content'."
      ]
    },
    {
      "cell_type": "code",
      "metadata": {
        "id": "MTlTnmBiAZOs",
        "colab_type": "code",
        "colab": {}
      },
      "source": [
        "if not os.path.exists('test_data'):\n",
        "    os.makedirs('test_data')\n",
        "    ae.to_csv('test_data/test_study_ae.csv')"
      ],
      "execution_count": 0,
      "outputs": []
    },
    {
      "cell_type": "markdown",
      "metadata": {
        "id": "9Qbhsydp9ltq",
        "colab_type": "text"
      },
      "source": [
        "You can generate a dataframe this dataframe with 'ID' and 'text' column from SAS7bdat using \n",
        "\n",
        "```python\n",
        "\n",
        "mapper.sas_metadata_to_csv('latin','test_study_ae.csv') # encoding of SAS7bdat, and output csv file.\n",
        "\n",
        "```\n",
        "\n",
        "### 3.3 Small pre-preocessing\n",
        "\n",
        "You can hard code what raw variables should be dropped with regular expressionin suffix.\n",
        "\n",
        "You need to specify what EDC system  used for your raw SAS dataset. Here I am specifying as **'rave'**. Currently this is the only EDC system supported.\n",
        "\n",
        "`drop_sys_vars` generates three outputs.\n",
        "\n",
        "1. A Pandas dataframe containing dropping variables,\n",
        "2. A Pandas Series of variable metadata excluding dropping variables.\n",
        "3. A Pandas dataframe of variable metadata excluding dropping variables.\n",
        "\n",
        "**Note:**  All letters will be also converted to lower case."
      ]
    },
    {
      "cell_type": "code",
      "metadata": {
        "id": "k7QCmTgd_hNa",
        "colab_type": "code",
        "colab": {}
      },
      "source": [
        "#Variables to be dropped with these suffic\n",
        "suffix='.*_RAW$|.*_INT$|.*_STD$|.*_D{1,2}$|.*_M{1,2}$|.*_Y{1,4}$' \n",
        "\n",
        "Dt, Xt, df=sdtmmap.drop_sys_vars(os.path.join('test_data','test_study_ae.csv'), 'rave',suffix) \n"
      ],
      "execution_count": 0,
      "outputs": []
    },
    {
      "cell_type": "markdown",
      "metadata": {
        "id": "yX3O8dxmCBKP",
        "colab_type": "text"
      },
      "source": [
        "Dt dataframe contains dropping variables. \n",
        "Xt is the input for the predictive model\n",
        "df is the dataframe contains everything except records in Dt."
      ]
    },
    {
      "cell_type": "code",
      "metadata": {
        "id": "PXmbw7_rB4vz",
        "colab_type": "code",
        "outputId": "96053115-9231-4cba-f098-051a021603dc",
        "colab": {
          "base_uri": "https://localhost:8080/",
          "height": 204
        }
      },
      "source": [
        "Dt.head()"
      ],
      "execution_count": 0,
      "outputs": [
        {
          "output_type": "execute_result",
          "data": {
            "text/html": [
              "<div>\n",
              "<style scoped>\n",
              "    .dataframe tbody tr th:only-of-type {\n",
              "        vertical-align: middle;\n",
              "    }\n",
              "\n",
              "    .dataframe tbody tr th {\n",
              "        vertical-align: top;\n",
              "    }\n",
              "\n",
              "    .dataframe thead th {\n",
              "        text-align: right;\n",
              "    }\n",
              "</style>\n",
              "<table border=\"1\" class=\"dataframe\">\n",
              "  <thead>\n",
              "    <tr style=\"text-align: right;\">\n",
              "      <th></th>\n",
              "      <th>Unnamed: 0</th>\n",
              "      <th>ID</th>\n",
              "      <th>text</th>\n",
              "      <th>sdtm</th>\n",
              "      <th>pred</th>\n",
              "    </tr>\n",
              "  </thead>\n",
              "  <tbody>\n",
              "    <tr>\n",
              "      <th>0</th>\n",
              "      <td>0</td>\n",
              "      <td>PROJECTID</td>\n",
              "      <td>PROJECTID projectid</td>\n",
              "      <td>DROP</td>\n",
              "      <td>DROP</td>\n",
              "    </tr>\n",
              "    <tr>\n",
              "      <th>1</th>\n",
              "      <td>1</td>\n",
              "      <td>PROJECT</td>\n",
              "      <td>PROJECT project</td>\n",
              "      <td>DROP</td>\n",
              "      <td>DROP</td>\n",
              "    </tr>\n",
              "    <tr>\n",
              "      <th>2</th>\n",
              "      <td>2</td>\n",
              "      <td>STUDYID</td>\n",
              "      <td>STUDYID Internal id for the study</td>\n",
              "      <td>DROP</td>\n",
              "      <td>DROP</td>\n",
              "    </tr>\n",
              "    <tr>\n",
              "      <th>3</th>\n",
              "      <td>3</td>\n",
              "      <td>ENVIRONMENTNAME</td>\n",
              "      <td>ENVIRONMENTNAME Environment</td>\n",
              "      <td>DROP</td>\n",
              "      <td>DROP</td>\n",
              "    </tr>\n",
              "    <tr>\n",
              "      <th>4</th>\n",
              "      <td>4</td>\n",
              "      <td>SUBJECTID</td>\n",
              "      <td>SUBJECTID Internal id for the subject</td>\n",
              "      <td>DROP</td>\n",
              "      <td>DROP</td>\n",
              "    </tr>\n",
              "  </tbody>\n",
              "</table>\n",
              "</div>"
            ],
            "text/plain": [
              "   Unnamed: 0               ID                                   text  sdtm  \\\n",
              "0           0        PROJECTID                    PROJECTID projectid  DROP   \n",
              "1           1          PROJECT                        PROJECT project  DROP   \n",
              "2           2          STUDYID      STUDYID Internal id for the study  DROP   \n",
              "3           3  ENVIRONMENTNAME            ENVIRONMENTNAME Environment  DROP   \n",
              "4           4        SUBJECTID  SUBJECTID Internal id for the subject  DROP   \n",
              "\n",
              "   pred  \n",
              "0  DROP  \n",
              "1  DROP  \n",
              "2  DROP  \n",
              "3  DROP  \n",
              "4  DROP  "
            ]
          },
          "metadata": {
            "tags": []
          },
          "execution_count": 11
        }
      ]
    },
    {
      "cell_type": "markdown",
      "metadata": {
        "id": "LCmxomPlDFDS",
        "colab_type": "text"
      },
      "source": [
        "Since this 'ae' file is a test file, it contains the ground truth."
      ]
    },
    {
      "cell_type": "code",
      "metadata": {
        "id": "9lrJXuvIC5IX",
        "colab_type": "code",
        "outputId": "823c5394-6a16-42f2-d875-e2499b1072e2",
        "colab": {
          "base_uri": "https://localhost:8080/",
          "height": 204
        }
      },
      "source": [
        "df.head()"
      ],
      "execution_count": 0,
      "outputs": [
        {
          "output_type": "execute_result",
          "data": {
            "text/html": [
              "<div>\n",
              "<style scoped>\n",
              "    .dataframe tbody tr th:only-of-type {\n",
              "        vertical-align: middle;\n",
              "    }\n",
              "\n",
              "    .dataframe tbody tr th {\n",
              "        vertical-align: top;\n",
              "    }\n",
              "\n",
              "    .dataframe thead th {\n",
              "        text-align: right;\n",
              "    }\n",
              "</style>\n",
              "<table border=\"1\" class=\"dataframe\">\n",
              "  <thead>\n",
              "    <tr style=\"text-align: right;\">\n",
              "      <th></th>\n",
              "      <th>Unnamed: 0</th>\n",
              "      <th>ID</th>\n",
              "      <th>text</th>\n",
              "      <th>sdtm</th>\n",
              "    </tr>\n",
              "  </thead>\n",
              "  <tbody>\n",
              "    <tr>\n",
              "      <th>0</th>\n",
              "      <td>6</td>\n",
              "      <td>SUBJECT</td>\n",
              "      <td>SUBJECT Subject name or identifier</td>\n",
              "      <td>SUBJID</td>\n",
              "    </tr>\n",
              "    <tr>\n",
              "      <th>1</th>\n",
              "      <td>13</td>\n",
              "      <td>INSTANCENAME</td>\n",
              "      <td>INSTANCENAME Folder instance name</td>\n",
              "      <td>DROP</td>\n",
              "    </tr>\n",
              "    <tr>\n",
              "      <th>2</th>\n",
              "      <td>29</td>\n",
              "      <td>AETERM</td>\n",
              "      <td>AETERM Reported Term for the Adverse Event</td>\n",
              "      <td>AETERM</td>\n",
              "    </tr>\n",
              "    <tr>\n",
              "      <th>3</th>\n",
              "      <td>30</td>\n",
              "      <td>VMEDDRA</td>\n",
              "      <td>VMEDDRA MedDRA Version Num</td>\n",
              "      <td>DROP</td>\n",
              "    </tr>\n",
              "    <tr>\n",
              "      <th>4</th>\n",
              "      <td>31</td>\n",
              "      <td>LLT_NAME</td>\n",
              "      <td>LLT_NAME LLT_NAME</td>\n",
              "      <td>AELLT</td>\n",
              "    </tr>\n",
              "  </tbody>\n",
              "</table>\n",
              "</div>"
            ],
            "text/plain": [
              "   Unnamed: 0            ID                                        text  \\\n",
              "0           6       SUBJECT          SUBJECT Subject name or identifier   \n",
              "1          13  INSTANCENAME           INSTANCENAME Folder instance name   \n",
              "2          29        AETERM  AETERM Reported Term for the Adverse Event   \n",
              "3          30       VMEDDRA                  VMEDDRA MedDRA Version Num   \n",
              "4          31      LLT_NAME                           LLT_NAME LLT_NAME   \n",
              "\n",
              "     sdtm  \n",
              "0  SUBJID  \n",
              "1    DROP  \n",
              "2  AETERM  \n",
              "3    DROP  \n",
              "4   AELLT  "
            ]
          },
          "metadata": {
            "tags": []
          },
          "execution_count": 12
        }
      ]
    },
    {
      "cell_type": "markdown",
      "metadata": {
        "id": "E3Vh2_77Ch3n",
        "colab_type": "text"
      },
      "source": [
        "## 4. Run the model\n",
        "This is to generate a target SDTM variables."
      ]
    },
    {
      "cell_type": "code",
      "metadata": {
        "id": "DX1yGD79B_wc",
        "colab_type": "code",
        "colab": {}
      },
      "source": [
        "output = model.predict(Xt)"
      ],
      "execution_count": 0,
      "outputs": []
    },
    {
      "cell_type": "markdown",
      "metadata": {
        "id": "Clmt8GyMDSBK",
        "colab_type": "text"
      },
      "source": [
        "In order to put the prediction into 'df' dataframe, we need to decode because X has been encoded."
      ]
    },
    {
      "cell_type": "code",
      "metadata": {
        "id": "HIIO0a2NDymQ",
        "colab_type": "code",
        "colab": {}
      },
      "source": [
        "samples.load_sample_decoder()\n"
      ],
      "execution_count": 0,
      "outputs": []
    },
    {
      "cell_type": "code",
      "metadata": {
        "id": "2zp7vj5rDOu_",
        "colab_type": "code",
        "colab": {}
      },
      "source": [
        "df['pred']=sdtmmap.decode_sdtm_target(output, 'sample_decoder')\n",
        "spec=sdtmmap.add_drop(df,Dt.loc[:,['ID','text', 'sdtm','pred']])"
      ],
      "execution_count": 0,
      "outputs": []
    },
    {
      "cell_type": "markdown",
      "metadata": {
        "id": "wDIPtWP5KRg6",
        "colab_type": "text"
      },
      "source": [
        "Let's take a look at the predictions!"
      ]
    },
    {
      "cell_type": "code",
      "metadata": {
        "id": "WMDty1mTHhv6",
        "colab_type": "code",
        "outputId": "41bfdfb6-ea17-4156-eda0-b2efae0c9f59",
        "colab": {
          "base_uri": "https://localhost:8080/",
          "height": 204
        }
      },
      "source": [
        "spec.head()"
      ],
      "execution_count": 0,
      "outputs": [
        {
          "output_type": "execute_result",
          "data": {
            "text/html": [
              "<div>\n",
              "<style scoped>\n",
              "    .dataframe tbody tr th:only-of-type {\n",
              "        vertical-align: middle;\n",
              "    }\n",
              "\n",
              "    .dataframe tbody tr th {\n",
              "        vertical-align: top;\n",
              "    }\n",
              "\n",
              "    .dataframe thead th {\n",
              "        text-align: right;\n",
              "    }\n",
              "</style>\n",
              "<table border=\"1\" class=\"dataframe\">\n",
              "  <thead>\n",
              "    <tr style=\"text-align: right;\">\n",
              "      <th></th>\n",
              "      <th>ID</th>\n",
              "      <th>Unnamed: 0</th>\n",
              "      <th>pred</th>\n",
              "      <th>sdtm</th>\n",
              "      <th>text</th>\n",
              "    </tr>\n",
              "  </thead>\n",
              "  <tbody>\n",
              "    <tr>\n",
              "      <th>0</th>\n",
              "      <td>SUBJECT</td>\n",
              "      <td>6.0</td>\n",
              "      <td>SUBJID</td>\n",
              "      <td>SUBJID</td>\n",
              "      <td>SUBJECT Subject name or identifier</td>\n",
              "    </tr>\n",
              "    <tr>\n",
              "      <th>1</th>\n",
              "      <td>INSTANCENAME</td>\n",
              "      <td>13.0</td>\n",
              "      <td>DROP</td>\n",
              "      <td>DROP</td>\n",
              "      <td>INSTANCENAME Folder instance name</td>\n",
              "    </tr>\n",
              "    <tr>\n",
              "      <th>2</th>\n",
              "      <td>AETERM</td>\n",
              "      <td>29.0</td>\n",
              "      <td>AETERM</td>\n",
              "      <td>AETERM</td>\n",
              "      <td>AETERM Reported Term for the Adverse Event</td>\n",
              "    </tr>\n",
              "    <tr>\n",
              "      <th>3</th>\n",
              "      <td>VMEDDRA</td>\n",
              "      <td>30.0</td>\n",
              "      <td>DROP</td>\n",
              "      <td>DROP</td>\n",
              "      <td>VMEDDRA MedDRA Version Num</td>\n",
              "    </tr>\n",
              "    <tr>\n",
              "      <th>4</th>\n",
              "      <td>LLT_NAME</td>\n",
              "      <td>31.0</td>\n",
              "      <td>AESEV</td>\n",
              "      <td>AELLT</td>\n",
              "      <td>LLT_NAME LLT_NAME</td>\n",
              "    </tr>\n",
              "  </tbody>\n",
              "</table>\n",
              "</div>"
            ],
            "text/plain": [
              "             ID  Unnamed: 0    pred    sdtm  \\\n",
              "0       SUBJECT         6.0  SUBJID  SUBJID   \n",
              "1  INSTANCENAME        13.0    DROP    DROP   \n",
              "2        AETERM        29.0  AETERM  AETERM   \n",
              "3       VMEDDRA        30.0    DROP    DROP   \n",
              "4      LLT_NAME        31.0   AESEV   AELLT   \n",
              "\n",
              "                                         text  \n",
              "0          SUBJECT Subject name or identifier  \n",
              "1           INSTANCENAME Folder instance name  \n",
              "2  AETERM Reported Term for the Adverse Event  \n",
              "3                  VMEDDRA MedDRA Version Num  \n",
              "4                           LLT_NAME LLT_NAME  "
            ]
          },
          "metadata": {
            "tags": []
          },
          "execution_count": 16
        }
      ]
    },
    {
      "cell_type": "markdown",
      "metadata": {
        "id": "0hwkv2nOKb71",
        "colab_type": "text"
      },
      "source": [
        "Check where the model made mistakes"
      ]
    },
    {
      "cell_type": "code",
      "metadata": {
        "id": "4lST9k1pKcnd",
        "colab_type": "code",
        "outputId": "22080797-a283-4b49-cfa8-faeea7e27138",
        "colab": {
          "base_uri": "https://localhost:8080/",
          "height": 142
        }
      },
      "source": [
        "spec[spec['sdtm']!=spec['pred']]"
      ],
      "execution_count": 0,
      "outputs": [
        {
          "output_type": "execute_result",
          "data": {
            "text/html": [
              "<div>\n",
              "<style scoped>\n",
              "    .dataframe tbody tr th:only-of-type {\n",
              "        vertical-align: middle;\n",
              "    }\n",
              "\n",
              "    .dataframe tbody tr th {\n",
              "        vertical-align: top;\n",
              "    }\n",
              "\n",
              "    .dataframe thead th {\n",
              "        text-align: right;\n",
              "    }\n",
              "</style>\n",
              "<table border=\"1\" class=\"dataframe\">\n",
              "  <thead>\n",
              "    <tr style=\"text-align: right;\">\n",
              "      <th></th>\n",
              "      <th>ID</th>\n",
              "      <th>Unnamed: 0</th>\n",
              "      <th>pred</th>\n",
              "      <th>sdtm</th>\n",
              "      <th>text</th>\n",
              "    </tr>\n",
              "  </thead>\n",
              "  <tbody>\n",
              "    <tr>\n",
              "      <th>4</th>\n",
              "      <td>LLT_NAME</td>\n",
              "      <td>31.0</td>\n",
              "      <td>AESEV</td>\n",
              "      <td>AELLT</td>\n",
              "      <td>LLT_NAME LLT_NAME</td>\n",
              "    </tr>\n",
              "    <tr>\n",
              "      <th>9</th>\n",
              "      <td>HLT_CODE</td>\n",
              "      <td>36.0</td>\n",
              "      <td>AEHLT</td>\n",
              "      <td>AEHLTCD</td>\n",
              "      <td>HLT_CODE HLT_CODE</td>\n",
              "    </tr>\n",
              "    <tr>\n",
              "      <th>17</th>\n",
              "      <td>AEENTIM</td>\n",
              "      <td>54.0</td>\n",
              "      <td>DROP</td>\n",
              "      <td>AEENDTC_TM</td>\n",
              "      <td>AEENTIM Stop Time</td>\n",
              "    </tr>\n",
              "  </tbody>\n",
              "</table>\n",
              "</div>"
            ],
            "text/plain": [
              "          ID  Unnamed: 0   pred        sdtm               text\n",
              "4   LLT_NAME        31.0  AESEV       AELLT  LLT_NAME LLT_NAME\n",
              "9   HLT_CODE        36.0  AEHLT     AEHLTCD  HLT_CODE HLT_CODE\n",
              "17   AEENTIM        54.0   DROP  AEENDTC_TM  AEENTIM Stop Time"
            ]
          },
          "metadata": {
            "tags": []
          },
          "execution_count": 17
        }
      ]
    },
    {
      "cell_type": "markdown",
      "metadata": {
        "id": "hmdX8My9L8OF",
        "colab_type": "text"
      },
      "source": [
        "So it made 3 mistakes. "
      ]
    },
    {
      "cell_type": "code",
      "metadata": {
        "id": "8ibcjDK2LqiX",
        "colab_type": "code",
        "outputId": "ef6794f1-69dd-476f-a9bd-d9c4e7b33cba",
        "colab": {
          "base_uri": "https://localhost:8080/",
          "height": 34
        }
      },
      "source": [
        "(len(spec)-3)/len(spec)"
      ],
      "execution_count": 0,
      "outputs": [
        {
          "output_type": "execute_result",
          "data": {
            "text/plain": [
              "0.9655172413793104"
            ]
          },
          "metadata": {
            "tags": []
          },
          "execution_count": 18
        }
      ]
    },
    {
      "cell_type": "code",
      "metadata": {
        "id": "2O0yYa5FKLT3",
        "colab_type": "code",
        "colab": {}
      },
      "source": [
        "#tf.keras.backend.clear_session()"
      ],
      "execution_count": 0,
      "outputs": []
    },
    {
      "cell_type": "markdown",
      "metadata": {
        "id": "yoa_S3vCMcFd",
        "colab_type": "text"
      },
      "source": [
        "## 5. How can you create your training data?\n",
        "\n",
        "First upload your dataset. Then specify the path to the dataset in SDTMMapper."
      ]
    },
    {
      "cell_type": "code",
      "metadata": {
        "id": "t4vRes4jM347",
        "colab_type": "code",
        "colab": {}
      },
      "source": [
        "createspec=mapper.SDTMMapper('ae', False, 'ae.sas7bdat')"
      ],
      "execution_count": 0,
      "outputs": []
    },
    {
      "cell_type": "markdown",
      "metadata": {
        "id": "tmexOGjJNqfY",
        "colab_type": "text"
      },
      "source": [
        "sas_metadata_to_csv(encode, out_csv_file) will read SAS dataset and get the attributes in csv and dataframe."
      ]
    },
    {
      "cell_type": "code",
      "metadata": {
        "id": "47TExd27NRsQ",
        "colab_type": "code",
        "colab": {}
      },
      "source": [
        "sample_dataset=createspec.sas_metadata_to_csv('latin', 'sample_spec_template.csv')"
      ],
      "execution_count": 0,
      "outputs": []
    },
    {
      "cell_type": "code",
      "metadata": {
        "id": "FXD53eKnNepx",
        "colab_type": "code",
        "outputId": "4dbed995-57cc-4e26-9c9d-98a8ec0340f2",
        "colab": {
          "base_uri": "https://localhost:8080/",
          "height": 204
        }
      },
      "source": [
        "sample_dataset.head()"
      ],
      "execution_count": 0,
      "outputs": [
        {
          "output_type": "execute_result",
          "data": {
            "text/html": [
              "<div>\n",
              "<style scoped>\n",
              "    .dataframe tbody tr th:only-of-type {\n",
              "        vertical-align: middle;\n",
              "    }\n",
              "\n",
              "    .dataframe tbody tr th {\n",
              "        vertical-align: top;\n",
              "    }\n",
              "\n",
              "    .dataframe thead th {\n",
              "        text-align: right;\n",
              "    }\n",
              "</style>\n",
              "<table border=\"1\" class=\"dataframe\">\n",
              "  <thead>\n",
              "    <tr style=\"text-align: right;\">\n",
              "      <th></th>\n",
              "      <th>ID</th>\n",
              "      <th>text</th>\n",
              "    </tr>\n",
              "  </thead>\n",
              "  <tbody>\n",
              "    <tr>\n",
              "      <th>0</th>\n",
              "      <td>PROJECTID</td>\n",
              "      <td>PROJECTID projectid</td>\n",
              "    </tr>\n",
              "    <tr>\n",
              "      <th>1</th>\n",
              "      <td>PROJECT</td>\n",
              "      <td>PROJECT project</td>\n",
              "    </tr>\n",
              "    <tr>\n",
              "      <th>2</th>\n",
              "      <td>STUDYID</td>\n",
              "      <td>STUDYID Internal id for the study</td>\n",
              "    </tr>\n",
              "    <tr>\n",
              "      <th>3</th>\n",
              "      <td>ENVIRONMENTNAME</td>\n",
              "      <td>ENVIRONMENTNAME Environment</td>\n",
              "    </tr>\n",
              "    <tr>\n",
              "      <th>4</th>\n",
              "      <td>SUBJECTID</td>\n",
              "      <td>SUBJECTID Internal id for the subject</td>\n",
              "    </tr>\n",
              "  </tbody>\n",
              "</table>\n",
              "</div>"
            ],
            "text/plain": [
              "                ID                                   text\n",
              "0        PROJECTID                    PROJECTID projectid\n",
              "1          PROJECT                        PROJECT project\n",
              "2          STUDYID      STUDYID Internal id for the study\n",
              "3  ENVIRONMENTNAME            ENVIRONMENTNAME Environment\n",
              "4        SUBJECTID  SUBJECTID Internal id for the subject"
            ]
          },
          "metadata": {
            "tags": []
          },
          "execution_count": 19
        }
      ]
    },
    {
      "cell_type": "code",
      "metadata": {
        "id": "-yBNBNGTNohp",
        "colab_type": "code",
        "colab": {}
      },
      "source": [
        ""
      ],
      "execution_count": 0,
      "outputs": []
    }
  ]
}